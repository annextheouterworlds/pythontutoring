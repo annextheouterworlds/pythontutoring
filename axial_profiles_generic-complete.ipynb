{
 "cells": [
  {
   "cell_type": "code",
   "execution_count": 1,
   "metadata": {
    "extensions": {
     "jupyter_dashboards": {
      "version": 1,
      "views": {
       "grid_default": {
        "hidden": true
       },
       "report_default": {}
      }
     }
    }
   },
   "outputs": [],
   "source": [
    "from math import *\n",
    "import math\n",
    "import numpy as np\n",
    "from mpmath import *\n",
    "mp.dps = 15; mp.pretty = True\n",
    "import sys\n",
    "from iapws import IAPWS97\n",
    "from ipywidgets import interact, interactive, fixed, interact_manual,FloatSlider, FloatRangeSlider,VBox, HBox, Label,Dropdown, Checkbox\n",
    "from ipywidgets import widgets\n",
    "from IPython.display import display, Math, Latex\n",
    "from scipy import interpolate"
   ]
  },
  {
   "cell_type": "code",
   "execution_count": 2,
   "metadata": {
    "extensions": {
     "jupyter_dashboards": {
      "version": 1,
      "views": {
       "grid_default": {
        "hidden": true
       },
       "report_default": {}
      }
     }
    }
   },
   "outputs": [],
   "source": [
    "def interact_hookup(f, controls):\n",
    "    from ipywidgets import Output\n",
    "    from IPython.display import clear_output\n",
    "    def observer(change):   \n",
    "        clear_output()\n",
    "        kwargs = {k:v.value for k,v in controls.items()}\n",
    "        f(**kwargs)\n",
    "    for k,w in controls.items():\n",
    "        w.observe(observer, 'value')  \n",
    "    observer(None)  "
   ]
  },
  {
   "cell_type": "code",
   "execution_count": 3,
   "metadata": {
    "extensions": {
     "jupyter_dashboards": {
      "version": 1,
      "views": {
       "grid_default": {
        "hidden": true
       },
       "report_default": {}
      }
     }
    }
   },
   "outputs": [],
   "source": [
    "def dittus_boelter(Re,Pr):\n",
    "    Nu = 0.023*(Re**0.8)*(Pr**0.4)\n",
    "    return Nu"
   ]
  },
  {
   "cell_type": "code",
   "execution_count": 4,
   "metadata": {
    "extensions": {
     "jupyter_dashboards": {
      "version": 1,
      "views": {
       "grid_default": {
        "hidden": true
       },
       "report_default": {}
      }
     }
    }
   },
   "outputs": [],
   "source": [
    "def reynolds_number(mdot,A,mu,D):\n",
    "    Re = mdot*D/(A*mu)\n",
    "    return Re"
   ]
  },
  {
   "cell_type": "code",
   "execution_count": 5,
   "metadata": {
    "extensions": {
     "jupyter_dashboards": {
      "version": 1,
      "views": {
       "grid_default": {
        "hidden": true
       },
       "report_default": {}
      }
     }
    }
   },
   "outputs": [
    {
     "data": {
      "image/png": "[encoded data removed]",
      "text/plain": [
       "<Figure size 576x432 with 1 Axes>"
      ]
     },
     "metadata": {
      "needs_background": "light"
     },
     "output_type": "display_data"
    },
    {
     "data": {
      "application/vnd.jupyter.widget-view+json": {
       "model_id": "cc9ecd3e18be46ee8ca29252cf9adf34",
       "version_major": 2,
       "version_minor": 0
      },
      "text/plain": [
       "HBox(children=(VBox(children=(HBox(children=(FloatSlider(value=15.5, continuous_update=False, description='P (…"
      ]
     },
     "metadata": {},
     "output_type": "display_data"
    },
    {
     "data": {
      "application/vnd.jupyter.widget-view+json": {
       "model_id": "cc9ecd3e18be46ee8ca29252cf9adf34",
       "version_major": 2,
       "version_minor": 0
      },
      "text/plain": [
       "HBox(children=(VBox(children=(HBox(children=(FloatSlider(value=15.5, continuous_update=False, description='P (…"
      ]
     },
     "metadata": {},
     "output_type": "display_data"
    }
   ],
   "source": [
    "def calc(pressure,T_in,mdot,ylim,interp,Tb_cb,Tc_cb,Ts_cb,Tm_cb,qppp0,qppp1,qppp2,qppp3,qppp4,qppp5,qppp6,qppp7,qppp8,qppp9):\n",
    "    # pressure is in MPa\n",
    "\n",
    "    \n",
    "    D_rod      = 0.0095\n",
    "    pitch      = 0.0125\n",
    "    c          = 0.0007\n",
    "    r1         = (D_rod - 2.0*c)/2.0     # divide by 1000.0 because c and D_rod are in mm\n",
    "    r2         = D_rod/2.0               # divide by 1000.0 because D_rod is in mm\n",
    "    A_rod      = (np.pi*(D_rod)**2.0)/4.0\n",
    "    A_flow     = pitch**2.0 - A_rod\n",
    "    H          = 3.66\n",
    "    q          = 60.0E3\n",
    "    kc         = 10.0\n",
    "    kf         = 3.0\n",
    "    \n",
    "    N_elements = 10\n",
    "    \n",
    "    # setup linearly spaced 1d mesh\n",
    "    z_faces    = np.linspace(0.0,H,N_elements+1)        # 1d array defining the z-positions at which to calculate the temperatures\n",
    "    l_element  = z_faces[1] - z_faces[0]  \n",
    "    v_flow_element  = l_element*A_flow\n",
    "    v_rod_element   = l_element*A_rod\n",
    "    z_centres  = np.linspace(l_element/2.0,H-l_element/2.0,N_elements)    \n",
    "    \n",
    "    qppp_av         = q/(A_rod*np.sum(l_element))\n",
    "\n",
    "    # setup array to hold the element volumetric powers and assign from user input\n",
    "    qppp_centres= np.zeros_like(z_centres)\n",
    "    qppp_centres[0] = qppp0\n",
    "    qppp_centres[1] = qppp1\n",
    "    qppp_centres[2] = qppp2\n",
    "    qppp_centres[3] = qppp3\n",
    "    qppp_centres[4] = qppp4\n",
    "    qppp_centres[5] = qppp5\n",
    "    qppp_centres[6] = qppp6\n",
    "    qppp_centres[7] = qppp7\n",
    "    qppp_centres[8] = qppp8\n",
    "    qppp_centres[9] = qppp8\n",
    "\n",
    "    # scale qppp so that total q is correct\n",
    "    qppp_centres = qppp_av*qppp_centres/np.sum(qppp_centres)    \n",
    "    \n",
    "    # setup arrays to hold solution\n",
    "    Tb_faces    = np.zeros_like(z_faces)\n",
    "    Tb_centres  = np.zeros_like(z_centres)\n",
    "    Tc_faces    = np.zeros_like(z_faces)\n",
    "    Tc_centres  = np.zeros_like(z_centres)\n",
    "    Ts_faces    = np.zeros_like(z_faces)\n",
    "    Ts_centres  = np.zeros_like(z_centres)\n",
    "    Tm_faces    = np.zeros_like(z_faces)\n",
    "    Tm_centres  = np.zeros_like(z_centres)\n",
    "\n",
    "    # saturation properties\n",
    "    sat_vapour=IAPWS97(P=pressure,x=1)                \n",
    "    sat_liquid=IAPWS97(P=pressure,x=0)              \n",
    "    cp    = sat_liquid.cp*1000.0        # specific heat capacity (kJ/kgK)\n",
    "    Pr    = sat_liquid.Prandt\n",
    "    mu    = sat_liquid.mu\n",
    "    k     = sat_liquid.k\n",
    "    rho   = sat_liquid.rho\n",
    "\n",
    "    # Calculate\n",
    "    Tb_faces[0] = T_in\n",
    "    for i in np.arange(Tb_faces.size):\n",
    "        if (i > 0):\n",
    "            Tb_faces[i] = Tb_faces[i-1]+qppp_centres[i-1]*v_rod_element/(mdot*cp)\n",
    "\n",
    "    Tb_centres  = np.interp(z_centres,z_faces,Tb_faces)\n",
    "\n",
    "    # Determine the convective heat transfer coefficient\n",
    "    Dh = 4.0*A_flow/(np.pi*D_rod)\n",
    "    Re = reynolds_number(mdot,A_flow,mu,Dh)\n",
    "    Nu = dittus_boelter(Re,Pr)\n",
    "    h  = Nu*k/Dh\n",
    "    \n",
    "\n",
    "    # calculate the coolant temperature at each z point                                \n",
    "    Tc_centres = Tb_centres + qppp_centres*v_rod_element/(np.pi*D_rod*l_element*h)\n",
    "    Ts_centres = Tc_centres + qppp_centres*A_rod*np.log(r2/r1)/(2.0*np.pi*kc)\n",
    "    Tm_centres = Ts_centres + qppp_centres*A_rod/(4.0*np.pi*kf)\n",
    "    \n",
    "    # Perform cubic sline interpolation\n",
    "    n_interp = 100\n",
    "    z_interp = np.linspace(l_element/2.0,H-l_element/2.0,n_interp)\n",
    "    \n",
    "    if (interp):\n",
    "        tck = interpolate.splrep(z_centres,Tb_centres, s=0)\n",
    "        Tb_interp = interpolate.splev(z_interp, tck, der=0)\n",
    "        tck = interpolate.splrep(z_centres,Tc_centres, s=0)\n",
    "        Tc_interp = interpolate.splev(z_interp, tck, der=0)\n",
    "        tck = interpolate.splrep(z_centres,Ts_centres, s=0)\n",
    "        Ts_interp = interpolate.splev(z_interp, tck, der=0)\n",
    "        tck = interpolate.splrep(z_centres,Tm_centres, s=0)\n",
    "        Tm_interp = interpolate.splev(z_interp, tck, der=0)\n",
    "    \n",
    "    \n",
    "    from matplotlib import pyplot as plt\n",
    "#     %matplotlib inline\n",
    "    \n",
    "    plt.rcParams['font.size']=12\n",
    "    fig_size = [0,0]\n",
    "    fig_size[0] = 8\n",
    "    fig_size[1] = 6\n",
    "    plt.rcParams[\"figure.figsize\"] = fig_size\n",
    "    \n",
    "    plt.figure()\n",
    "    if (interp):\n",
    "        if (Tb_cb):\n",
    "            Tb_plot = plt.plot(z_interp,Tb_interp, label='Bulk Coolant')\n",
    "        if (Tc_cb):\n",
    "            Tc_plot = plt.plot(z_interp,Tc_interp, label='Clad Surface')\n",
    "        if (Ts_cb):\n",
    "            Ts_plot = plt.plot(z_interp,Ts_interp, label='Fuel/Clad Interface')\n",
    "    else:    \n",
    "        if (Tb_cb):\n",
    "            Tb_plot = plt.plot(z_centres,Tb_centres, label='Bulk Coolant')\n",
    "        if (Tc_cb):\n",
    "            Tc_plot = plt.plot(z_centres,Tc_centres, label='Clad Surface')\n",
    "        if (Ts_cb):\n",
    "            Ts_plot = plt.plot(z_centres,Ts_centres, label='Fuel/Clad Interface')\n",
    "    \n",
    "    plt.xlabel('Position (m)')\n",
    "    plt.ylabel('Coolant/Clad/Interface Temperature $^oC$')\n",
    "    plt.ylim([ylim[0],ylim[1]])\n",
    "    plt.grid(True)\n",
    "    if (interp):\n",
    "        if (Tm_cb):\n",
    "            ax1 = plt.gca()\n",
    "            ax2 = ax1.twinx()\n",
    "            ax2.plot(z_interp, Tm_interp,'g--',label='Fuel Centre')\n",
    "            ax2.set_ylabel('Fuel Centre Temperature')\n",
    "    else:\n",
    "        if (Tm_cb):\n",
    "            ax1 = plt.gca()\n",
    "            ax2 = ax1.twinx()\n",
    "            ax2.plot(z_centres, Tm_centres,'g--',label='Fuel Centre')\n",
    "            ax2.set_ylabel('Fuel Centre Temperature')\n",
    "    plt.legend()\n",
    "    plt.show()   \n",
    "    display(UI)\n",
    "    \n",
    "#     display(Latex(r' '))\n",
    "#     display(Latex(r'Hydraulic Diameter       : '+str(int(Dh*1000.0))+r' mm'))\n",
    "#     display(Latex(r'Reynolds Number          : '+str(int(Re))))\n",
    "#     display(Latex(r'Nusselt Number           : '+str(int(Nu))))\n",
    "#     display(Latex(r'Heat transfer coefficient: '+str(int(h))+r' W/m$^2$K'))\n",
    "\n",
    "\n",
    "w =dict( pressure=FloatSlider(description='P (MPa)',value=15.5,min=0.1, max=22.0, step=0.1, continuous_update=False),\n",
    "         T_in=FloatSlider(description='T_in',value=250.0,min=200.0, max=300.0, step=0.1, continuous_update=False),\n",
    "         mdot=FloatSlider(description='mdot',value=0.34,min=0.01, max=1.0, step=0.01, continuous_update=False),\n",
    "         ylim=FloatRangeSlider(value=[250.0, 265.0],min=200.0,max=400.0,step=5.0,description='Y Limits',disabled=False,continuous_update=False,orientation='horizontal'),\n",
    "         interp=Checkbox(value=False,description='Smooth',disabled=False),\n",
    "         Tb_cb=Checkbox(value=True,description='Bulk Coolant',disabled=False),\n",
    "         Tc_cb=Checkbox(value=False,description='Clad Surface',disabled=False),\n",
    "         Ts_cb=Checkbox(value=False,description='Fuel/Clad Interface',disabled=False),\n",
    "         Tm_cb=Checkbox(value=False,description='Fuel Centre',disabled=False),\n",
    "         qppp0=FloatSlider(description='qppp0',value=50.0,min=0.0, max=100.0, step=1.0, continuous_update=False,orientation='vertical'),\n",
    "         qppp1=FloatSlider(description='qppp1',value=50.0,min=0.0, max=100.0, step=1.0, continuous_update=False,orientation='vertical'),\n",
    "         qppp2=FloatSlider(description='qppp2',value=50.0,min=0.0, max=100.0, step=1.0, continuous_update=False,orientation='vertical'),\n",
    "         qppp3=FloatSlider(description='qppp3',value=50.0,min=0.0, max=100.0, step=1.0, continuous_update=False,orientation='vertical'),\n",
    "         qppp4=FloatSlider(description='qppp4',value=50.0,min=0.0, max=100.0, step=1.0, continuous_update=False,orientation='vertical'),\n",
    "         qppp5=FloatSlider(description='qppp5',value=50.0,min=0.0, max=100.0, step=1.0, continuous_update=False,orientation='vertical'),\n",
    "         qppp6=FloatSlider(description='qppp6',value=50.0,min=0.0, max=100.0, step=1.0, continuous_update=False,orientation='vertical'),\n",
    "         qppp7=FloatSlider(description='qppp7',value=50.0,min=0.0, max=100.0, step=1.0, continuous_update=False,orientation='vertical'),\n",
    "         qppp8=FloatSlider(description='qppp8',value=50.0,min=0.0, max=100.0, step=1.0, continuous_update=False,orientation='vertical'),\n",
    "         qppp9=FloatSlider(description='qppp9',value=50.0,min=0.0, max=100.0, step=1.0, continuous_update=False,orientation='vertical'));\n",
    "\n",
    "\n",
    "UI = HBox([\n",
    "        VBox([\n",
    "                HBox([w['pressure'], w['T_in'], w['mdot'],]),\n",
    "                HBox([w['ylim'],w['interp'],]),\n",
    "                HBox([w['Tb_cb'], w['Tc_cb'],w['Ts_cb'],w['Tm_cb'],]),\n",
    "                HBox([w['qppp0'],w['qppp1'], w['qppp2'],w['qppp3'],w['qppp4'],w['qppp5'], w['qppp6'],w['qppp7'],w['qppp8'],w['qppp9'],]),\n",
    "            ]),\n",
    "    ])\n",
    "\n",
    "interact_hookup(calc, w)\n",
    "display(UI)   "
   ]
  },
  {
   "cell_type": "code",
   "execution_count": 6,
   "metadata": {
    "extensions": {
     "jupyter_dashboards": {
      "version": 1,
      "views": {
       "grid_default": {
        "col": 8,
        "height": 4,
        "hidden": false,
        "row": 28,
        "width": 4
       },
       "report_default": {}
      }
     }
    }
   },
   "outputs": [
    {
     "data": {
      "text/html": [
       "<script>\n",
       "code_show=true; \n",
       "function code_toggle() {\n",
       " if (code_show){\n",
       " $('div.input').hide();\n",
       " } else {\n",
       " $('div.input').show();\n",
       " }\n",
       " code_show = !code_show\n",
       "} \n",
       "$( document ).ready(code_toggle);\n",
       "</script>\n",
       "The raw code for this IPython notebook is by default hidden for easier reading.\n",
       "To toggle on/off the raw code, click <a href=\"javascript:code_toggle()\">here</a>."
      ],
      "text/plain": [
       "<IPython.core.display.HTML object>"
      ]
     },
     "execution_count": 6,
     "metadata": {},
     "output_type": "execute_result"
    }
   ],
   "source": [
    "from IPython.display import HTML\n",
    "HTML('''<script>\n",
    "code_show=true; \n",
    "function code_toggle() {\n",
    " if (code_show){\n",
    " $('div.input').hide();\n",
    " } else {\n",
    " $('div.input').show();\n",
    " }\n",
    " code_show = !code_show\n",
    "} \n",
    "$( document ).ready(code_toggle);\n",
    "</script>\n",
    "The raw code for this IPython notebook is by default hidden for easier reading.\n",
    "To toggle on/off the raw code, click <a href=\"javascript:code_toggle()\">here</a>.''')"
   ]
  },
  {
   "cell_type": "code",
   "execution_count": null,
   "metadata": {
    "extensions": {
     "jupyter_dashboards": {
      "version": 1,
      "views": {
       "grid_default": {
        "hidden": true
       },
       "report_default": {}
      }
     }
    }
   },
   "outputs": [],
   "source": []
  },
  {
   "cell_type": "code",
   "execution_count": null,
   "metadata": {},
   "outputs": [],
   "source": []
  },
  {
   "cell_type": "code",
   "execution_count": null,
   "metadata": {},
   "outputs": [],
   "source": []
  },
  {
   "cell_type": "code",
   "execution_count": null,
   "metadata": {},
   "outputs": [],
   "source": []
  },
  {
   "cell_type": "code",
   "execution_count": null,
   "metadata": {},
   "outputs": [],
   "source": []
  }
 ],
 "metadata": {
  "extensions": {
   "jupyter_dashboards": {
    "activeView": "grid_default",
    "version": 1,
    "views": {
     "grid_default": {
      "cellMargin": 10,
      "defaultCellHeight": 20,
      "maxColumns": 12,
      "name": "grid",
      "type": "grid"
     },
     "report_default": {
      "name": "report",
      "type": "report"
     }
    }
   }
  },
  "kernelspec": {
   "display_name": "Python 3",
   "language": "python",
   "name": "python3"
  },
  "language_info": {
   "codemirror_mode": {
    "name": "ipython",
    "version": 3
   },
   "file_extension": ".py",
   "mimetype": "text/x-python",
   "name": "python",
   "nbconvert_exporter": "python",
   "pygments_lexer": "ipython3",
   "version": "3.8.5"
  },
  "latex_envs": {
   "LaTeX_envs_menu_present": true,
   "autocomplete": true,
   "bibliofile": "biblio.bib",
   "cite_by": "apalike",
   "current_citInitial": 1,
   "eqLabelWithNumbers": true,
   "eqNumInitial": 1,
   "hotkeys": {
    "equation": "Ctrl-E",
    "itemize": "Ctrl-I"
   },
   "labels_anchors": false,
   "latex_user_defs": false,
   "report_style_numbering": false,
   "user_envs_cfg": false
  },
  "widgets": {
   "state": {
    "2c167d1e64524f049e620e88adbe24dd": {
     "views": [
      {
       "cell_index": 5
      }
     ]
    }
   },
   "version": "1.2.0"
  }
 },
 "nbformat": 4,
 "nbformat_minor": 4
}
